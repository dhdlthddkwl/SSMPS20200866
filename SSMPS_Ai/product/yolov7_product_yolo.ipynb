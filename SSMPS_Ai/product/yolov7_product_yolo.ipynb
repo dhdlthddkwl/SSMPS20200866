{
  "cells": [
    {
      "cell_type": "code",
      "execution_count": null,
      "metadata": {
        "id": "SLWAucPX-3G3"
      },
      "outputs": [],
      "source": [
        "from google.colab import drive\n",
        "drive.mount('/content/drive')"
      ]
    },
    {
      "cell_type": "code",
      "execution_count": null,
      "metadata": {
        "id": "SLimKqG5-8Dh"
      },
      "outputs": [],
      "source": [
        "%cd \"/content/drive/MyDrive\"\n",
        "%pwd"
      ]
    },
    {
      "cell_type": "code",
      "execution_count": null,
      "metadata": {
        "id": "p0RVmCOs-1DD"
      },
      "outputs": [],
      "source": [
        "!wget \"https://www.wfonts.com/download/data/2016/06/13/malgun-gothic/malgun.ttf\"\n",
        "!mv malgun.ttf /usr/share/fonts/truetype/\n",
        "import matplotlib.font_manager as fm\n",
        "\n",
        "# !wget \"https://www.wfonts.com/download/data/2016/06/13/malgun-gothic/malgun.ttf\"\n",
        "# !mv malgun.ttf /content/drive/MyDrive/yolov7/font"
      ]
    },
    {
      "cell_type": "code",
      "execution_count": null,
      "metadata": {
        "id": "COcqHm7F_AnU"
      },
      "outputs": [],
      "source": [
        "!git clone https://github.com/SkalskiP/yolov7.git\n",
        "%cd yolov7\n",
        "!git checkout fix/problems_associated_with_the_latest_versions_of_pytorch_and_numpy\n",
        "!pip install -r requirements.txt"
      ]
    },
    {
      "cell_type": "code",
      "execution_count": null,
      "metadata": {
        "id": "X6t0cCxQZBXT"
      },
      "outputs": [],
      "source": [
        "# import shutil\n",
        "# shutil.rmtree('/content/drive/MyDrive/yolov7/train')\n",
        "# shutil.rmtree('/content/drive/MyDrive/yolov7/test')\n",
        "# shutil.rmtree('/content/drive/MyDrive/yolov7/valid')"
      ]
    },
    {
      "cell_type": "code",
      "execution_count": null,
      "metadata": {
        "id": "OzrsSJoNa8_y"
      },
      "outputs": [],
      "source": [
        "%cd /content/drive/MyDrive/yolov7"
      ]
    },
    {
      "cell_type": "code",
      "execution_count": null,
      "metadata": {
        "id": "REyfQLShbbO7"
      },
      "outputs": [],
      "source": [
        "from glob import glob \n",
        "\n",
        "img_list = glob('/content/drive/MyDrive/yolov7/data/train/images/*.jpg')\n",
        "val_img_list = glob('/content/drive/MyDrive/yolov7/data/val/images/*.jpg')\n",
        "test_img_list = glob('/content/drive/MyDrive/yolov7/data/test/images/*.jpg')\n",
        "print(len(img_list))\n",
        "print(len(val_img_list))\n",
        "print(len(test_img_list))"
      ]
    },
    {
      "cell_type": "code",
      "execution_count": null,
      "metadata": {
        "id": "Fs5ZogUabq5e"
      },
      "outputs": [],
      "source": [
        "with open('/content/drive/MyDrive/yolov7/data/train.txt', 'w') as f:\n",
        "    f.write('\\n'.join(img_list) + '\\n')\n",
        "\n",
        "with open('/content/drive/MyDrive/yolov7/data/valid.txt', 'w') as f:\n",
        "    f.write('\\n'.join(val_img_list) + '\\n')\n",
        "\n",
        "with open('/content/drive/MyDrive/yolov7/data/test.txt', 'w') as f:\n",
        "    f.write('\\n'.join(test_img_list) + '\\n')"
      ]
    },
    {
      "cell_type": "code",
      "execution_count": null,
      "metadata": {
        "id": "eQ7tTuM6UOnQ"
      },
      "outputs": [],
      "source": [
        "device = 'cuda'\n",
        "import torch, gc\n",
        "import os\n",
        "gc.collect()\n",
        "torch.cuda.empty_cache()"
      ]
    },
    {
      "attachments": {},
      "cell_type": "markdown",
      "metadata": {
        "id": "Qm81ehSSdsOp"
      },
      "source": [
        "https://velog.io/@dbtjr1103/YoloV7-%ED%95%9C%EA%B8%80-%EB%9D%BC%EB%B2%A8-%EC%A0%81%EC%9A%A9-%EB%B0%A9%EB%B2%95 : 한글 라벨링"
      ]
    },
    {
      "cell_type": "code",
      "execution_count": null,
      "metadata": {
        "id": "o9mFN5IFX7CL"
      },
      "outputs": [],
      "source": [
        "!python train.py --device 0 --batch-size 16 --epochs 100 --img 416 416 --data /content/drive/MyDrive/yolov7/data/data_product_korea.yaml --hyp /content/drive/MyDrive/yolov7/data/hyp.scratch.custom.yaml --cfg /content/drive/MyDrive/yolov7/cfg/training/yolov7x-custom.yaml --weights /content/drive/MyDrive/yolov7/models/yolov7x.pt --name yolov7x-custom"
      ]
    },
    {
      "attachments": {},
      "cell_type": "markdown",
      "metadata": {
        "id": "1gWzrjQMzI1p"
      },
      "source": [
        "이어서 학습"
      ]
    },
    {
      "cell_type": "code",
      "execution_count": null,
      "metadata": {
        "id": "QyrQZT3azOy-"
      },
      "outputs": [],
      "source": [
        "!python train.py --device 0 --batch-size 16 --epochs 100 --img 416 416 --data /content/drive/MyDrive/yolov7/data/data.yaml --hyp /content/drive/MyDrive/yolov7/data/hyp.scratch.custom.yaml --cfg /content/drive/MyDrive/yolov7/cfg/training/yolov7x-custom.yaml --weights /content/drive/MyDrive/yolov7/runs/train/yolov7x-custom34/weights/best.pt --name yolov7x-custom"
      ]
    },
    {
      "attachments": {},
      "cell_type": "markdown",
      "metadata": {
        "id": "xzjuI1DxPD1r"
      },
      "source": [
        "google_utils.py 에러시 27 줄에\n",
        "```\n",
        " tag='v0.1'\n",
        "        assets = ['yolov7.pt', 'yolov7-tiny.pt', 'yolov7x.pt', 'yolov7-d6.pt', 'yolov7-e6.pt', \n",
        "                      'yolov7-e6e.pt', 'yolov7-w6.pt']\n",
        "        # try:\n",
        "        #     response = requests.get(f'https://api.github.com/repos/{repo}/releases/latest').json()  # github api\n",
        "        #     assets = [x['name'] for x in response['assets']]  # release assets\n",
        "        #     tag = response['tag_name']  # i.e. 'v1.0'\n",
        "        # except:  # fallback plan\n",
        "        #     assets = ['yolov7.pt', 'yolov7-tiny.pt', 'yolov7x.pt', 'yolov7-d6.pt', 'yolov7-e6.pt', \n",
        "        #               'yolov7-e6e.pt', 'yolov7-w6.pt']\n",
        "        #     tag = subprocess.check_output('git tag', shell=True).decode().split()[-1]\n",
        "```\n",
        "로 변경하기\n",
        "\n"
      ]
    },
    {
      "attachments": {},
      "cell_type": "markdown",
      "metadata": {
        "id": "jz_B08b5TtRz"
      },
      "source": [
        "# Test"
      ]
    },
    {
      "cell_type": "code",
      "execution_count": null,
      "metadata": {
        "id": "JVhwSCACD69C"
      },
      "outputs": [],
      "source": [
        "!python test.py --data /content/drive/MyDrive/yolov7/data/data_product_korea.yaml --img 416 --batch 16 --conf 0.001 --iou 0.65 --device 0 --weights runs/train/yolov7x-custom36/weights/best.pt --name yolov7_640_val"
      ]
    },
    {
      "attachments": {},
      "cell_type": "markdown",
      "metadata": {
        "id": "pp6HQumzTvTh"
      },
      "source": [
        "# Detect"
      ]
    },
    {
      "cell_type": "code",
      "execution_count": null,
      "metadata": {
        "id": "20TX79z4Lo3Y"
      },
      "outputs": [],
      "source": [
        "!python detect.py --weights /content/drive/MyDrive/yolov7/runs/train/yolov7x-custom36/weights/best.pt --conf 0.25 --img-size 416 --source /content/drive/MyDrive/yolov7/data/detect/3.jpg"
      ]
    }
  ],
  "metadata": {
    "accelerator": "GPU",
    "colab": {
      "machine_shape": "hm",
      "provenance": []
    },
    "gpuClass": "standard",
    "kernelspec": {
      "display_name": "Python 3",
      "name": "python3"
    },
    "language_info": {
      "name": "python"
    }
  },
  "nbformat": 4,
  "nbformat_minor": 0
}
