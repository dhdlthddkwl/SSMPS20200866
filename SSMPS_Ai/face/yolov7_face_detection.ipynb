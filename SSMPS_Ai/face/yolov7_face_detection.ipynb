{
 "cells": [
  {
   "cell_type": "code",
   "execution_count": null,
   "metadata": {},
   "outputs": [],
   "source": [
    "<a href=\"https://colab.research.google.com/github/freenozero/SSMPS_minju/blob/main/yolov7_face_detection.ipynb\" target=\"_parent\"><img src=\"https://colab.research.google.com/assets/colab-badge.svg\" alt=\"Open In Colab\"/></a>"
   ]
  },
  {
   "attachments": {},
   "cell_type": "markdown",
   "metadata": {},
   "source": [
    "기본 세팅"
   ]
  },
  {
   "cell_type": "code",
   "execution_count": null,
   "metadata": {
    "id": "gqUanPr54a3J"
   },
   "outputs": [],
   "source": [
    "from google.colab import drive\n",
    "drive.mount('/content/drive')"
   ]
  },
  {
   "cell_type": "code",
   "execution_count": null,
   "metadata": {
    "id": "7YHhTM0vM2e4"
   },
   "outputs": [],
   "source": [
    "#remount해야할 때 사용\n",
    "from google.colab import drive\n",
    "drive.mount('/content/drive', force_remount=True)"
   ]
  },
  {
   "cell_type": "code",
   "execution_count": null,
   "metadata": {
    "ExecuteTime": {
     "end_time": "2023-04-24T16:12:41.212351Z",
     "start_time": "2023-04-24T16:12:41.184307Z"
    },
    "id": "7lGJ0XCrNwMT"
   },
   "outputs": [],
   "source": [
    "#갑자기 디렉토리 사용불가능 할 때 사용\n",
    "import os\n",
    "path = \"C:/Users/whdms/PycharmProjects/SSMPS/SSMPS_Ai/face/yolov7-face\"\n",
    "os.chdir(path)"
   ]
  },
  {
   "cell_type": "code",
   "execution_count": null,
   "metadata": {
    "id": "VsCo-W3C7_H2"
   },
   "outputs": [],
   "source": [
    "%cd \"/content/drive/MyDrive\"\n",
    "%pwd"
   ]
  },
  {
   "cell_type": "markdown",
   "metadata": {
    "id": "aTmLRvYwF0dW"
   },
   "source": [
    "# 사용한 모델 불러오기\n",
    "\n",
    "## 사용할 모델 github\n",
    "https://github.com/deepcam-cn/yolov5-face\n",
    "\n",
    "https://github.com/derronqi/yolov7-face\n"
   ]
  },
  {
   "cell_type": "code",
   "execution_count": null,
   "metadata": {
    "ExecuteTime": {
     "end_time": "2023-04-24T18:29:43.261447Z",
     "start_time": "2023-04-24T18:29:43.254408Z"
    }
   },
   "outputs": [],
   "source": [
    "import sys\n",
    "print(sys.version)\n"
   ]
  },
  {
   "cell_type": "code",
   "execution_count": null,
   "metadata": {
    "ExecuteTime": {
     "end_time": "2023-04-24T15:48:27.673411Z",
     "start_time": "2023-04-24T15:48:14.189758Z"
    },
    "id": "zn_Iv3NM2lBc"
   },
   "outputs": [],
   "source": [
    "!git clone https://github.com/derronqi/yolov7-face"
   ]
  },
  {
   "cell_type": "code",
   "execution_count": null,
   "metadata": {
    "ExecuteTime": {
     "end_time": "2023-04-24T15:59:45.847406Z",
     "start_time": "2023-04-24T15:59:45.818812Z"
    },
    "id": "sfS__QwE3oWu"
   },
   "outputs": [],
   "source": [
    "# %cd \"/content/drive/MyDrive/yolov7-face\"\n",
    "# %pwd\n",
    "# %cd \"yolov7-face\"\n",
    "!pip install -r requirements.txt"
   ]
  },
  {
   "cell_type": "code",
   "execution_count": null,
   "metadata": {
    "id": "kxbofhU_3rGl"
   },
   "outputs": [],
   "source": [
    "%cd \"data\"\n",
    "%cat widerface.yaml"
   ]
  },
  {
   "cell_type": "markdown",
   "metadata": {
    "id": "KXBuM5otH7BK"
   },
   "source": [
    "## Pretrained-Models 다운로드\n",
    "yolov7 github에서 더 다운로드 가능"
   ]
  },
  {
   "cell_type": "code",
   "execution_count": null,
   "metadata": {
    "ExecuteTime": {
     "end_time": "2023-04-24T16:08:08.526373Z",
     "start_time": "2023-04-24T16:08:03.766324Z"
    },
    "id": "W9RlfqKqZ5_Q"
   },
   "outputs": [],
   "source": [
    "# import os\n",
    "# %cd C:\\Users\\whdms\\PycharmProjects\\SSMPS\\SSMPS_Ai\\face\\yolov7-face\n",
    "# os.mkdir(\"pt\")\n",
    "#\n",
    "%cd pt\n",
    "# !pip install gdown\n",
    "\n",
    "!gdown https://drive.google.com/uc?id=1oIaGXFd4goyBvB1mYDK24GLof53H9ZYo"
   ]
  },
  {
   "cell_type": "markdown",
   "metadata": {
    "id": "2fy4oNJhIErH"
   },
   "source": [
    "# 사용할 데이터셋 불러오기\n",
    "\n",
    "How to Download GoogleDriveFiles from Colab : https://lapina.tistory.com/140\n",
    "\n",
    "\n",
    "data set : http://shuoyang1213.me/WIDERFACE/\n",
    "\n",
    "data set labels: https://drive.google.com/file/d/1adi6ke2vCLQFcpbvFqWo_J4wZIfPqSMG/edit\n",
    "\n",
    "unzip zip file in colab: https://zeuskwon-ds.tistory.com/52\n"
   ]
  },
  {
   "cell_type": "markdown",
   "metadata": {
    "id": "HRVwWlzhHVMK"
   },
   "source": [
    "## 이미지, 라벨링 폴더 다운로드"
   ]
  },
  {
   "cell_type": "code",
   "execution_count": null,
   "metadata": {
    "ExecuteTime": {
     "end_time": "2023-04-24T16:10:49.688624Z",
     "start_time": "2023-04-24T16:08:53.678185Z"
    },
    "id": "Mwxzylm6Gq4k"
   },
   "outputs": [],
   "source": [
    "import os\n",
    "%cd ./data\n",
    "os.mkdir(\"widerface\")\n",
    "\n",
    "# data set\n",
    "%cd /content/drive/MyDrive/yolov7-face/data/widerface\n",
    "!gdown https://drive.google.com/uc?id=15hGDLhsx8bLgLcIRD5DhYt5iBxnjNF1M\n",
    "!gdown https://drive.google.com/uc?id=1GUCogbp16PMGa39thoMMeWxp7Rp5oM8Q\n",
    "!gdown https://drive.google.com/uc?id=1HIfDbVEWKmsYKJZm4lchTBDLW5N7dY5T\n",
    "\n",
    "# lables\n",
    "!gdown https://drive.google.com/uc?id=1FsZ0ACah386yUufi0E_PVsRW_0VtZ1bd"
   ]
  },
  {
   "cell_type": "markdown",
   "metadata": {
    "id": "1MT-0r3DHYwS"
   },
   "source": [
    "## unzip"
   ]
  },
  {
   "cell_type": "code",
   "execution_count": null,
   "metadata": {
    "ExecuteTime": {
     "end_time": "2023-04-26T21:05:55.989046Z",
     "start_time": "2023-04-26T21:05:52.111655Z"
    }
   },
   "outputs": [],
   "source": [
    "# %cd data/widerface\n",
    "!pip install unzip"
   ]
  },
  {
   "cell_type": "code",
   "execution_count": null,
   "metadata": {
    "ExecuteTime": {
     "end_time": "2023-04-26T21:06:00.033752Z",
     "start_time": "2023-04-26T21:05:59.862703Z"
    },
    "id": "npgiS_ynIw3Z"
   },
   "outputs": [],
   "source": [
    "!unzip --qq \"/content/drive/MyDrive/yolov7-face/data/widerface/WIDER_train.zip\" -d \"/content/drive/MyDrive/yolov7-face/data/widerface\"\n",
    "!unzip --qq \"/content/drive/MyDrive/yolov7-face/data/widerface/WIDER_val.zip\" -d \"/content/drive/MyDrive/yolov7-face/data/widerface\"\n",
    "!unzip --qq \"/content/drive/MyDrive/yolov7-face/data/widerface/WIDER_test.zip\" -d \"/content/drive/MyDrive/yolov7-face/data/widerface\"\n",
    "\n",
    "!tar -xzvf \"/content/drive/MyDrive/yolov7-face/data/widerface/yolov7-face-label.tar.gz\" -C \"/content/drive/MyDrive/yolov7-face/data/widerface/\""
   ]
  },
  {
   "cell_type": "markdown",
   "metadata": {
    "id": "mhXxANP4HbxU"
   },
   "source": [
    "## 폴더, 파일명 정정"
   ]
  },
  {
   "cell_type": "code",
   "execution_count": null,
   "metadata": {
    "ExecuteTime": {
     "end_time": "2023-04-26T21:09:05.640221Z",
     "start_time": "2023-04-26T21:09:05.627228Z"
    },
    "collapsed": false
   },
   "outputs": [],
   "source": [
    "%cd widerface"
   ]
  },
  {
   "cell_type": "code",
   "execution_count": null,
   "metadata": {
    "ExecuteTime": {
     "end_time": "2023-04-26T21:13:22.165842Z",
     "start_time": "2023-04-26T21:13:22.077059Z"
    },
    "id": "8KfN63maOVlE"
   },
   "outputs": [],
   "source": [
    "import os\n",
    "\n",
    "old_name = \"WIDER_train\"\n",
    "new_name = \"train\"\n",
    "os.rename(old_name, new_name)\n",
    "old_name = \"WIDER_val\"\n",
    "new_name = \"val\"\n",
    "os.rename(old_name, new_name)\n",
    "old_name = \"WIDER_test\"\n",
    "new_name = \"test\"\n",
    "os.rename(old_name, new_name)"
   ]
  },
  {
   "cell_type": "code",
   "execution_count": null,
   "metadata": {
    "ExecuteTime": {
     "end_time": "2023-04-26T21:13:28.617583Z",
     "start_time": "2023-04-26T21:13:28.513646Z"
    },
    "id": "v9cuTBUULhWf"
   },
   "outputs": [],
   "source": [
    "import shutil\n",
    "\n",
    "shutil.move(\"yolov7-face-label/train\", \"train\")\n",
    "shutil.move(\"yolov7-face-label/val\", \"val\")\n",
    "os.rmdir(\"yolov7-face-label\")\n",
    "\n",
    "old_name = \"train/train\"\n",
    "new_name = \"train/labels\"\n",
    "os.rename(old_name, new_name)\n",
    "\n",
    "old_name = \"val/val\"\n",
    "new_name = \"val/labels\"\n",
    "os.rename(old_name, new_name)"
   ]
  },
  {
   "cell_type": "code",
   "execution_count": null,
   "metadata": {
    "ExecuteTime": {
     "end_time": "2023-04-26T21:08:49.515856Z",
     "start_time": "2023-04-26T21:08:49.488868Z"
    }
   },
   "outputs": [],
   "source": [
    "%pwd"
   ]
  },
  {
   "cell_type": "markdown",
   "metadata": {
    "id": "E9Bz4gTzP2oZ"
   },
   "source": [
    "images 폴더 안에 종류별로 나눠진 파일을 하나로 합침침"
   ]
  },
  {
   "cell_type": "code",
   "execution_count": null,
   "metadata": {
    "ExecuteTime": {
     "end_time": "2023-04-26T21:19:04.683498Z",
     "start_time": "2023-04-26T21:18:28.938009Z"
    },
    "id": "06BjtNP7JPpp"
   },
   "outputs": [],
   "source": [
    "import shutil\n",
    "import os\n",
    "# 저장할 폴더명 추출\n",
    "main_folder = \"train/images\"\n",
    "\n",
    "for folder_name in os.listdir(main_folder):\n",
    "    for file_name in os.listdir(f\"{main_folder}/{folder_name}\"):\n",
    "        shutil.move(f\"{main_folder}/{folder_name}/{file_name}\", f\"{main_folder}/{file_name}\")\n",
    "    # os.remove(f\"{main_folder}/{folder_name}\")\n",
    "\n",
    "main_folder = \"val/images\"\n",
    "\n",
    "for folder_name in os.listdir(main_folder):\n",
    "    for file_name in os.listdir(f\"{main_folder}/{folder_name}\"):\n",
    "        shutil.move(f\"{main_folder}/{folder_name}/{file_name}\", f\"{main_folder}/{file_name}\")\n",
    "    # os.rmdir(f\"{main_folder}/{folder_name}\")\n",
    "\n",
    "main_folder = \"test/images\"\n",
    "\n",
    "for folder_name in os.listdir(main_folder):\n",
    "    for file_name in os.listdir(f\"{main_folder}/{folder_name}\"):\n",
    "        shutil.move(f\"{main_folder}/{folder_name}/{file_name}\", f\"{main_folder}/{file_name}\")\n",
    "    # os.rmdir(f\"{main_folder}/{folder_name}\")"
   ]
  },
  {
   "cell_type": "code",
   "execution_count": null,
   "metadata": {
    "ExecuteTime": {
     "end_time": "2023-04-25T16:19:55.868056Z",
     "start_time": "2023-04-25T16:19:55.834055Z"
    },
    "id": "w-Al_PxM3v2I"
   },
   "outputs": [],
   "source": [
    "from glob import glob\n",
    "\n",
    "train_img_list = glob('train/images/*.jpg')\n",
    "val_img_list = glob('val/images/*.jpg')\n",
    "test_img_list = glob('test/images/*.jpg')\n",
    "\n",
    "train_txt_list = glob('train/labels/*.txt')\n",
    "val_txt_list = glob('val/labels/*.txt')\n",
    "\n",
    "print(len(train_img_list))\n",
    "print(len(val_img_list))\n",
    "print(len(test_img_list))\n",
    "\n",
    "print(\"---------------\")\n",
    "print(len(train_txt_list))\n",
    "print(len(val_txt_list))"
   ]
  },
  {
   "cell_type": "markdown",
   "metadata": {
    "id": "SeQ_NQZL_kCc"
   },
   "source": [
    "# Train"
   ]
  },
  {
   "cell_type": "code",
   "execution_count": null,
   "metadata": {},
   "outputs": [],
   "source": [
    "!python 2to3 -w"
   ]
  },
  {
   "cell_type": "code",
   "execution_count": null,
   "metadata": {
    "ExecuteTime": {
     "end_time": "2023-04-26T21:04:51.140188Z",
     "start_time": "2023-04-26T21:04:51.094183Z"
    },
    "id": "IW3BPlR1X2oV"
   },
   "outputs": [],
   "source": [
    "%cd C:/Users/whdms/PycharmProjects/SSMPS/SSMPS_Ai/face/yolov7-face\n",
    "%pwd"
   ]
  },
  {
   "cell_type": "code",
   "execution_count": null,
   "metadata": {
    "ExecuteTime": {
     "end_time": "2023-04-24T19:51:55.900945Z",
     "start_time": "2023-04-24T19:50:16.670834Z"
    },
    "id": "DGxpBwyD5FDt"
   },
   "outputs": [],
   "source": [
    "!python train.py --data widerface.yaml --cfg cfg/yolov7-face.yaml --weights pt/yolov7-face.pt"
   ]
  },
  {
   "cell_type": "markdown",
   "metadata": {
    "id": "ExrH4QdcBIRR"
   },
   "source": [
    "이어서 학습하기"
   ]
  },
  {
   "cell_type": "code",
   "execution_count": null,
   "metadata": {
    "ExecuteTime": {
     "end_time": "2023-04-24T19:45:55.495162Z",
     "start_time": "2023-04-24T19:45:55.337108Z"
    },
    "id": "kFw2FOLgm4OZ"
   },
   "outputs": [],
   "source": [
    "!python /content/drive/MyDrive/yolov7-face/train.py --data /content/drive/MyDrive/yolov7-face/data/widerface.yaml --cfg /content/drive/MyDrive/yolov7-face/cfg/yolov7-face.yaml --weights /content/drive/MyDrive/yolov7-face/runs/train/exp/weights/last.pt"
   ]
  },
  {
   "cell_type": "markdown",
   "metadata": {
    "id": "o_rDuzhjCOTy"
   },
   "source": [
    "# Test"
   ]
  },
  {
   "cell_type": "code",
   "execution_count": null,
   "metadata": {
    "id": "vdyMgkLyCLKW"
   },
   "outputs": [],
   "source": [
    "%cd /content/drive/MyDrive/yolov7-face/"
   ]
  },
  {
   "cell_type": "code",
   "execution_count": null,
   "metadata": {
    "id": "7c-97DBNkLln"
   },
   "outputs": [],
   "source": [
    "!python test.py --weights /content/drive/MyDrive/yolov7-face/pt/yolov7-face.pt --data /content/drive/MyDrive/yolov7-face/data/widerface/val/images"
   ]
  },
  {
   "cell_type": "code",
   "execution_count": null,
   "metadata": {
    "id": "1z8tS6aoYbeN"
   },
   "outputs": [],
   "source": [
    "!python evaluation.py -p /content/drive/MyDrive/yolov7-face/widerface_evaluate/widerface_txt -g /content/drive/MyDrive/yolov7-face/widerface_evaluate/ground_truth"
   ]
  }
 ],
 "metadata": {
  "accelerator": "GPU",
  "colab": {
   "authorship_tag": "ABX9TyMrbOLtfChWSeV6mOxzqrGw",
   "include_colab_link": true,
   "machine_shape": "hm",
   "mount_file_id": "1cKka28mwHGjzGv3zSZ8hjEqTTLvmem3e",
   "provenance": []
  },
  "gpuClass": "premium",
  "kernelspec": {
   "display_name": "Python 3",
   "language": "python",
   "name": "python3"
  },
  "language_info": {
   "codemirror_mode": {
    "name": "ipython",
    "version": 3
   },
   "file_extension": ".py",
   "mimetype": "text/x-python",
   "name": "python",
   "nbconvert_exporter": "python",
   "pygments_lexer": "ipython3",
   "version": "3.10.8"
  }
 },
 "nbformat": 4,
 "nbformat_minor": 1
}
